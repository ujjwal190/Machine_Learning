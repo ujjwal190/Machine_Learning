{
 "cells": [
  {
   "cell_type": "code",
   "execution_count": 9,
   "metadata": {},
   "outputs": [
    {
     "name": "stdout",
     "output_type": "stream",
     "text": [
      "Extracting MNIST_data/train-images-idx3-ubyte.gz\n",
      "Extracting MNIST_data/train-labels-idx1-ubyte.gz\n",
      "Extracting MNIST_data/t10k-images-idx3-ubyte.gz\n",
      "Extracting MNIST_data/t10k-labels-idx1-ubyte.gz\n",
      "step 0,train_accuracy 0.33\n",
      "step 1000,train_accuracy 0.98\n",
      "step 2000,train_accuracy 0.99\n",
      "0.9737\n"
     ]
    }
   ],
   "source": [
    "import tensorflow as tf\n",
    "from tensorflow.examples.tutorials.mnist import input_data\n",
    "mnist = input_data.read_data_sets(\"MNIST_data/\",one_hot=True)\n",
    "sess = tf.InteractiveSession()\n",
    "# 定义结构，前向计算\n",
    "# 定义一个隐含层，含有300个节点\n",
    "# 总的为   1×784  784×300  300×10   ======    1×10 结果\n",
    "\n",
    "def add_layer(inputs, in_size, out_size,keep_prob=1.0,activation_function=None):\n",
    "    Weights = tf.Variable(tf.truncated_normal([in_size,out_size],stddev=0.1))\n",
    "    biases = tf.Variable(tf.zeros([out_size]))\n",
    "    Wx_plus_b = tf.matmul(inputs, Weights) + biases\n",
    "    if activation_function is None:\n",
    "        outputs = Wx_plus_b\n",
    "    else:\n",
    "        outputs = activation_function(Wx_plus_b)\n",
    "        outputs = tf.nn.dropout(outputs,keep_prob)  #随机失活\n",
    "    return outputs\n",
    "x = tf.placeholder(tf.float32,[None,784])\n",
    "y_ = tf.placeholder(tf.float32,[None,10])\n",
    "keep_prob = tf.placeholder(tf.float32)     # 概率\n",
    "\n",
    "h1 = add_layer(x,784,300,keep_prob,tf.nn.relu)\n",
    "h2 = add_layer(h1,300,400,keep_prob,tf.nn.relu)\n",
    "##输出层\n",
    "w = tf.Variable(tf.zeros([400,10]))     #300*10\n",
    "b = tf.Variable(tf.zeros([10]))\n",
    "y = tf.nn.softmax(tf.matmul(h2,w)+b)\n",
    "\n",
    "#定义loss,optimizer\n",
    "cross_entropy = tf.reduce_mean(-tf.reduce_sum(y_ * tf.log(y),reduction_indices=[1]))\n",
    "train_step  =tf.train.AdagradOptimizer(0.35).minimize(cross_entropy)\n",
    "\n",
    "correct_prediction = tf.equal(tf.argmax(y,1),tf.argmax(y_,1))       #高维度的\n",
    "acuracy = tf.reduce_mean(tf.cast(correct_prediction,tf.float32))    #要用reduce_mean\n",
    "\n",
    "tf.global_variables_initializer().run()\n",
    "for i in range(3000):\n",
    "    batch_x,batch_y  = mnist.train.next_batch(100)\n",
    "    train_step.run({x:batch_x,y_:batch_y,keep_prob:0.75})\n",
    "    if i%1000==0:\n",
    "        train_accuracy = acuracy.eval({x:batch_x,y_:batch_y,keep_prob:1.0})\n",
    "        print(\"step %d,train_accuracy %g\"%(i,train_accuracy))\n",
    "    \n",
    "#test\n",
    "\n",
    "print acuracy.eval({x:mnist.test.images,y_:mnist.test.labels,keep_prob:1.0})"
   ]
  },
  {
   "cell_type": "code",
   "execution_count": 2,
   "metadata": {
    "collapsed": true
   },
   "outputs": [],
   "source": []
  },
  {
   "cell_type": "code",
   "execution_count": 8,
   "metadata": {},
   "outputs": [
    {
     "name": "stdout",
     "output_type": "stream",
     "text": [
      "step 0,train_accuracy 0.17\n",
      "step 1000,train_accuracy 1\n",
      "step 2000,train_accuracy 0.99\n",
      "0.098\n"
     ]
    }
   ],
   "source": []
  },
  {
   "cell_type": "code",
   "execution_count": 6,
   "metadata": {},
   "outputs": [
    {
     "name": "stdout",
     "output_type": "stream",
     "text": [
      "0.1652\n"
     ]
    }
   ],
   "source": []
  },
  {
   "cell_type": "code",
   "execution_count": 6,
   "metadata": {},
   "outputs": [
    {
     "name": "stdout",
     "output_type": "stream",
     "text": [
      "0.975\n"
     ]
    }
   ],
   "source": []
  },
  {
   "cell_type": "code",
   "execution_count": 4,
   "metadata": {
    "collapsed": true
   },
   "outputs": [],
   "source": []
  },
  {
   "cell_type": "code",
   "execution_count": 5,
   "metadata": {
    "collapsed": true
   },
   "outputs": [],
   "source": []
  },
  {
   "cell_type": "code",
   "execution_count": 6,
   "metadata": {
    "collapsed": true
   },
   "outputs": [],
   "source": []
  },
  {
   "cell_type": "code",
   "execution_count": 7,
   "metadata": {},
   "outputs": [
    {
     "name": "stdout",
     "output_type": "stream",
     "text": [
      "0.098\n"
     ]
    }
   ],
   "source": []
  },
  {
   "cell_type": "code",
   "execution_count": null,
   "metadata": {
    "collapsed": true
   },
   "outputs": [],
   "source": []
  },
  {
   "cell_type": "code",
   "execution_count": null,
   "metadata": {
    "collapsed": true
   },
   "outputs": [],
   "source": []
  }
 ],
 "metadata": {
  "kernelspec": {
   "display_name": "Python 2",
   "language": "python",
   "name": "python2"
  },
  "language_info": {
   "codemirror_mode": {
    "name": "ipython",
    "version": 2
   },
   "file_extension": ".py",
   "mimetype": "text/x-python",
   "name": "python",
   "nbconvert_exporter": "python",
   "pygments_lexer": "ipython2",
   "version": "2.7.12"
  }
 },
 "nbformat": 4,
 "nbformat_minor": 2
}
